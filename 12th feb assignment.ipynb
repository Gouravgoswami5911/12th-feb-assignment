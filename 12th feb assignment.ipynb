{
 "cells": [
  {
   "cell_type": "code",
   "execution_count": null,
   "id": "d0d352de",
   "metadata": {},
   "outputs": [],
   "source": [
    "#Question1: what is an Exception in python? what is the difference between Exceptions and syntax errors.\n",
    "\n",
    "\n",
    "\n",
    "In Python, an exception is an event, which occurs during the execution of a program, that disrupts the normal flow of the \n",
    "program's instructions. Exceptions are raised when something unexpected occurs in the program, such as division by zero,\n",
    "accessing an index out of range, or opening a file that does not exist.\n",
    "\n",
    "The difference between exceptions and syntax errors is that syntax errors are problems with the structure of the code, while \n",
    "exceptions are problems that occur while the code is executing. Syntax errors are detected and reported by the Python \n",
    "interpreter as soon as the code is parsed, before it is executed. On the other\n",
    "hand, exceptions are only raised when the code encounters a specific runtime condition."
   ]
  },
  {
   "cell_type": "code",
   "execution_count": null,
   "id": "7e62585a",
   "metadata": {},
   "outputs": [],
   "source": [
    "#Question2: what happens when an exception is not handled? explain with an example.\n",
    "\n",
    "\n",
    "\n",
    "\n",
    "When an exception is not handled, the program will stop executing and raise the exception,\n",
    "printing an error message to the console. This is called an unhandled exception, and it typically terminates the program.\n",
    "\n",
    "For example, consider the following code:\n",
    "    \n",
    "    \n",
    "x = 1\n",
    "y = 0\n",
    "z = x / y\n",
    "print(z)\n",
    "\n",
    "\n",
    "In this code, an exception will be raised when the division by zero occurs. Since the exception is not handled."
   ]
  },
  {
   "cell_type": "code",
   "execution_count": null,
   "id": "f69e2342",
   "metadata": {},
   "outputs": [],
   "source": [
    "#Question3: which python statements are used to catch and handle exceptions? explain with an example. \n",
    "\n",
    "\n",
    "\n",
    "The try and except statements are used in Python to catch and handle exceptions. \n",
    "The basic structure of a try-except block is as follows:\n",
    "    \n",
    "try:\n",
    "    # code that might raise an exception\n",
    "except ExceptionType:\n",
    "    # code to handle the exception\n",
    "\n",
    "    \n",
    "    \n",
    "The try block contains the code that might raise an exception. The except block contains the code to handle the exception,\n",
    "if it is raised.\n",
    "The ExceptionType argument is the type of the exception that you want to catch.    \n",
    "\n",
    "\n",
    "try:\n",
    "    x = 1\n",
    "    y = 0\n",
    "    z = x / y\n",
    "except ZeroDivisionError:\n",
    "    print(\"Cannot divide by zero.\")\n",
    "\n"
   ]
  },
  {
   "cell_type": "code",
   "execution_count": 2,
   "id": "2b53562b",
   "metadata": {},
   "outputs": [
    {
     "name": "stdout",
     "output_type": "stream",
     "text": [
      "Enter a number: 67\n",
      "The number entered is 67\n"
     ]
    }
   ],
   "source": [
    "#Question4:  Explain with an example:\n",
    "#     a.try and else\n",
    "#     b.finally\n",
    "#     c.raise \n",
    "    \n",
    "# a. try and else:    \n",
    "    \n",
    "    \n",
    "try:\n",
    "    x = int(input(\"Enter a number: \"))\n",
    "except ValueError:\n",
    "    print(\"Invalid input. Not a number.\")\n",
    "else:\n",
    "    print(\"The number entered is\", x)\n",
    "    "
   ]
  },
  {
   "cell_type": "code",
   "execution_count": 3,
   "id": "900b0d2a",
   "metadata": {},
   "outputs": [
    {
     "name": "stdout",
     "output_type": "stream",
     "text": [
      "Enter a number: bhjhfd\n",
      "Invalid input. Not a number.\n",
      "The program is finishing.\n"
     ]
    }
   ],
   "source": [
    "# b. finally:\n",
    "\n",
    "\n",
    "\n",
    "try:\n",
    "    x = int(input(\"Enter a number: \"))\n",
    "except ValueError:\n",
    "    print(\"Invalid input. Not a number.\")\n",
    "finally:\n",
    "    print(\"The program is finishing.\")\n"
   ]
  },
  {
   "cell_type": "code",
   "execution_count": 4,
   "id": "7ddbf9ed",
   "metadata": {},
   "outputs": [
    {
     "name": "stdout",
     "output_type": "stream",
     "text": [
      "division by zero\n"
     ]
    }
   ],
   "source": [
    "# c. raise:\n",
    "\n",
    "\n",
    "\n",
    "\n",
    "def divide(x, y):\n",
    "    if y == 0:\n",
    "        raise ZeroDivisionError(\"division by zero\")\n",
    "    return x / y\n",
    "\n",
    "try:\n",
    "    x = 1\n",
    "    y = 0\n",
    "    z = divide(x, y)\n",
    "except ZeroDivisionError as e:\n",
    "    print(e)\n"
   ]
  },
  {
   "cell_type": "code",
   "execution_count": 5,
   "id": "cdc07cfe",
   "metadata": {},
   "outputs": [
    {
     "data": {
      "text/plain": [
       "5.0"
      ]
     },
     "execution_count": 5,
     "metadata": {},
     "output_type": "execute_result"
    }
   ],
   "source": [
    "divide(10,2)        "
   ]
  },
  {
   "cell_type": "code",
   "execution_count": 7,
   "id": "6eedf081",
   "metadata": {},
   "outputs": [
    {
     "name": "stdout",
     "output_type": "stream",
     "text": [
      "Cannot divide by zero.\n"
     ]
    }
   ],
   "source": [
    "#Question5:  What are Custom Exceptions in python? Why do we need Custom Exceptions? Explain with an example.\n",
    "\n",
    "\n",
    "\n",
    "\n",
    "\"\"\"Custom exceptions are exceptions that are defined by the programmer rather than being one of the built-in exceptions \n",
    "\n",
    "provided by Python. Custom exceptions allow you to define your own error conditions and messages that are specific to \n",
    "your application, rather than relying on the standard error messages provided by Python.\n",
    "\n",
    "For example, consider a program that performs arithmetic operations on a set of numbers. If a user tries to divide a \n",
    "number by zero, it is important to raise an error, because division by zero is undefined. Python provides a built-in \n",
    "ZeroDivisionError exception for this purpose. However, if you want to provide a more specific error message that is \n",
    "more meaningful to your users, you can define your own custom exception for this purpose.\n",
    "\n",
    "Here's an example of how you can define a custom exception:\n",
    "\"\"\"\n",
    "\n",
    "\n",
    "class DivisionByZeroError(Exception):\n",
    "    pass\n",
    "\n",
    "def divide(x, y):\n",
    "    if y == 0:\n",
    "        raise DivisionByZeroError(\"Cannot divide by zero.\")\n",
    "    return x / y\n",
    "\n",
    "try:\n",
    "    x = 1\n",
    "    y = 0\n",
    "    z = divide(x, y)\n",
    "except DivisionByZeroError as e:\n",
    "    print(e)\n",
    "\n"
   ]
  },
  {
   "cell_type": "code",
   "execution_count": 9,
   "id": "d2a9c238",
   "metadata": {},
   "outputs": [
    {
     "name": "stdout",
     "output_type": "stream",
     "text": [
      "enter your age-789\n",
      "Entered age is negative\n"
     ]
    }
   ],
   "source": [
    "#Question6:  Create a custom exception class. Use this class to handle an exception.\n",
    "\n",
    "\n",
    "class validateage(Exception):\n",
    "    \n",
    "    \n",
    "    def __init__(self, msg):\n",
    "        self.msg = msg\n",
    "        \n",
    "def validaeteage(age):\n",
    "    if age < 0:\n",
    "        raise validateage(\"Entered age is negative\")\n",
    "    elif age>200:\n",
    "        raise validateage(\"Entered age is vey high\")\n",
    "    else:\n",
    "        print(\"age is valid\")\n",
    "\n",
    "        \n",
    "        \n",
    "try:\n",
    "    age= int(input(\"enter your age\"))\n",
    "    validaeteage(age)\n",
    "except validateage as e:\n",
    "    print(e)        "
   ]
  },
  {
   "cell_type": "code",
   "execution_count": null,
   "id": "e3f1f6e7",
   "metadata": {},
   "outputs": [],
   "source": []
  }
 ],
 "metadata": {
  "kernelspec": {
   "display_name": "Python 3 (ipykernel)",
   "language": "python",
   "name": "python3"
  },
  "language_info": {
   "codemirror_mode": {
    "name": "ipython",
    "version": 3
   },
   "file_extension": ".py",
   "mimetype": "text/x-python",
   "name": "python",
   "nbconvert_exporter": "python",
   "pygments_lexer": "ipython3",
   "version": "3.9.6"
  }
 },
 "nbformat": 4,
 "nbformat_minor": 5
}
